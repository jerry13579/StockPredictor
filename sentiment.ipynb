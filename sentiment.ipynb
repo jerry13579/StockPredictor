{
 "cells": [
  {
   "cell_type": "code",
   "id": "initial_id",
   "metadata": {
    "collapsed": true,
    "ExecuteTime": {
     "end_time": "2025-06-10T05:08:47.812163Z",
     "start_time": "2025-06-10T05:08:47.804312Z"
    }
   },
   "source": [
    "'''\n",
    "PRAW ONLY GIVES ACCESS TO MOST RECENT POSTS\n",
    "import praw\n",
    "from dotenv import load_dotenv\n",
    "import os\n",
    "\n",
    "load_dotenv()\n",
    "\n",
    "client_id = os.getenv(\"REDDIT_CLIENT_ID\")\n",
    "client_secret = os.getenv(\"REDDIT_SECRET\")\n",
    "user_agent = os.getenv(\"REDDIT_USER_AGENT\")\n",
    "\n",
    "\n",
    "reddit = praw.Reddit(\n",
    "    client_id=client_id,\n",
    "    client_secret=client_secret,\n",
    "    user_agent=user_agent\n",
    ")\n",
    "\n",
    "for submission in reddit.subreddit(\"wallstreetbets\").new(limit=1000):\n",
    "    print(submission.title)\n",
    "'''"
   ],
   "outputs": [
    {
     "data": {
      "text/plain": [
       "'\\nPRAW ONLY GIVES ACCESS TO MOST RECENT POSTS\\nimport praw\\nfrom dotenv import load_dotenv\\nimport os\\n\\nload_dotenv()\\n\\nclient_id = os.getenv(\"REDDIT_CLIENT_ID\")\\nclient_secret = os.getenv(\"REDDIT_SECRET\")\\nuser_agent = os.getenv(\"REDDIT_USER_AGENT\")\\n\\n\\nreddit = praw.Reddit(\\n    client_id=client_id,\\n    client_secret=client_secret,\\n    user_agent=user_agent\\n)\\n\\nfor submission in reddit.subreddit(\"wallstreetbets\").new(limit=1000):\\n    print(submission.title)\\n'"
      ]
     },
     "execution_count": 2,
     "metadata": {},
     "output_type": "execute_result"
    }
   ],
   "execution_count": 2
  },
  {
   "metadata": {
    "ExecuteTime": {
     "end_time": "2025-06-10T05:08:52.662998Z",
     "start_time": "2025-06-10T05:08:52.051079Z"
    }
   },
   "cell_type": "code",
   "source": [
    "import kagglehub\n",
    "import os\n",
    "\n",
    "os.environ['KAGGLEHUB_CACHE'] = os.getcwd() + '\\\\data'\n",
    "\n",
    "path = kagglehub.dataset_download(\"gpreda/reddit-wallstreetsbets-posts\")\n",
    "\n",
    "print(\"Path to dataset files:\", path)"
   ],
   "id": "91717079b360bbfd",
   "outputs": [
    {
     "name": "stdout",
     "output_type": "stream",
     "text": [
      "Path to dataset files: C:\\Users\\jerry\\PycharmProjects\\StockPredictor\\data\\datasets\\gpreda\\reddit-wallstreetsbets-posts\\versions\\106\n"
     ]
    }
   ],
   "execution_count": 3
  },
  {
   "metadata": {
    "ExecuteTime": {
     "end_time": "2025-06-10T05:08:54.578734Z",
     "start_time": "2025-06-10T05:08:54.009425Z"
    }
   },
   "cell_type": "code",
   "source": [
    "import pandas as pd\n",
    "wsb_posts = pd.read_csv('data\\\\datasets\\\\gpreda\\\\reddit-wallstreetsbets-posts\\\\versions\\\\106\\\\reddit_wsb.csv')\n",
    "wsb_posts"
   ],
   "id": "5799d720fe01916c",
   "outputs": [
    {
     "data": {
      "text/plain": [
       "                                                   title  score      id  \\\n",
       "0      It's not about the money, it's about sending a...     55  l6ulcx   \n",
       "1      Math Professor Scott Steiner says the numbers ...    110  l6uibd   \n",
       "2                                        Exit the system      0  l6uhhn   \n",
       "3      NEW SEC FILING FOR GME! CAN SOMEONE LESS RETAR...     29  l6ugk6   \n",
       "4      Not to distract from GME, just thought our AMC...     71  l6ufgy   \n",
       "...                                                  ...    ...     ...   \n",
       "53182    What I Learned Investigating SAVA FUD Spreaders    238  owd2pn   \n",
       "53183  Daily Popular Tickers Thread for August 02, 20...    228  owd1a5   \n",
       "53184       Hitler reacts to the market being irrational   7398  owc5dr   \n",
       "53185        Daily Discussion Thread for August 02, 2021    338  owbfjf   \n",
       "53186  Fraternal Association of Gambling Gentlemen an...     40  owaqd6   \n",
       "\n",
       "                                                     url  comms_num  \\\n",
       "0                        https://v.redd.it/6j75regs72e61          6   \n",
       "1                        https://v.redd.it/ah50lyny62e61         23   \n",
       "2      https://www.reddit.com/r/wallstreetbets/commen...         47   \n",
       "3      https://sec.report/Document/0001193125-21-019848/         74   \n",
       "4                    https://i.redd.it/4h2sukb662e61.jpg        156   \n",
       "...                                                  ...        ...   \n",
       "53182  https://www.reddit.com/r/wallstreetbets/commen...         87   \n",
       "53183  https://www.reddit.com/r/wallstreetbets/commen...       1070   \n",
       "53184                    https://v.redd.it/46jxu074exe71        372   \n",
       "53185  https://www.reddit.com/r/wallstreetbets/commen...      11688   \n",
       "53186  https://www.reddit.com/r/wallstreetbets/commen...        810   \n",
       "\n",
       "            created                                               body  \\\n",
       "0      1.611863e+09                                                NaN   \n",
       "1      1.611862e+09                                                NaN   \n",
       "2      1.611862e+09  The CEO of NASDAQ pushed to halt trading “to g...   \n",
       "3      1.611862e+09                                                NaN   \n",
       "4      1.611862e+09                                                NaN   \n",
       "...             ...                                                ...   \n",
       "53182  1.627906e+09  ***TLDR: Three bitter scientists partnered up ...   \n",
       "53183  1.627906e+09  \\nYour daily hype thread. Please keep the shit...   \n",
       "53184  1.627902e+09                                                NaN   \n",
       "53185  1.627898e+09  Your daily trading discussion thread. Please k...   \n",
       "53186  1.627895e+09  This is an old Yacht Club thread. Click /u/Vis...   \n",
       "\n",
       "                 timestamp  \n",
       "0      2021-01-28 21:37:41  \n",
       "1      2021-01-28 21:32:10  \n",
       "2      2021-01-28 21:30:35  \n",
       "3      2021-01-28 21:28:57  \n",
       "4      2021-01-28 21:26:56  \n",
       "...                    ...  \n",
       "53182  2021-08-02 15:03:27  \n",
       "53183  2021-08-02 15:01:03  \n",
       "53184  2021-08-02 13:59:35  \n",
       "53185  2021-08-02 13:00:16  \n",
       "53186  2021-08-02 12:00:14  \n",
       "\n",
       "[53187 rows x 8 columns]"
      ],
      "text/html": [
       "<div>\n",
       "<style scoped>\n",
       "    .dataframe tbody tr th:only-of-type {\n",
       "        vertical-align: middle;\n",
       "    }\n",
       "\n",
       "    .dataframe tbody tr th {\n",
       "        vertical-align: top;\n",
       "    }\n",
       "\n",
       "    .dataframe thead th {\n",
       "        text-align: right;\n",
       "    }\n",
       "</style>\n",
       "<table border=\"1\" class=\"dataframe\">\n",
       "  <thead>\n",
       "    <tr style=\"text-align: right;\">\n",
       "      <th></th>\n",
       "      <th>title</th>\n",
       "      <th>score</th>\n",
       "      <th>id</th>\n",
       "      <th>url</th>\n",
       "      <th>comms_num</th>\n",
       "      <th>created</th>\n",
       "      <th>body</th>\n",
       "      <th>timestamp</th>\n",
       "    </tr>\n",
       "  </thead>\n",
       "  <tbody>\n",
       "    <tr>\n",
       "      <th>0</th>\n",
       "      <td>It's not about the money, it's about sending a...</td>\n",
       "      <td>55</td>\n",
       "      <td>l6ulcx</td>\n",
       "      <td>https://v.redd.it/6j75regs72e61</td>\n",
       "      <td>6</td>\n",
       "      <td>1.611863e+09</td>\n",
       "      <td>NaN</td>\n",
       "      <td>2021-01-28 21:37:41</td>\n",
       "    </tr>\n",
       "    <tr>\n",
       "      <th>1</th>\n",
       "      <td>Math Professor Scott Steiner says the numbers ...</td>\n",
       "      <td>110</td>\n",
       "      <td>l6uibd</td>\n",
       "      <td>https://v.redd.it/ah50lyny62e61</td>\n",
       "      <td>23</td>\n",
       "      <td>1.611862e+09</td>\n",
       "      <td>NaN</td>\n",
       "      <td>2021-01-28 21:32:10</td>\n",
       "    </tr>\n",
       "    <tr>\n",
       "      <th>2</th>\n",
       "      <td>Exit the system</td>\n",
       "      <td>0</td>\n",
       "      <td>l6uhhn</td>\n",
       "      <td>https://www.reddit.com/r/wallstreetbets/commen...</td>\n",
       "      <td>47</td>\n",
       "      <td>1.611862e+09</td>\n",
       "      <td>The CEO of NASDAQ pushed to halt trading “to g...</td>\n",
       "      <td>2021-01-28 21:30:35</td>\n",
       "    </tr>\n",
       "    <tr>\n",
       "      <th>3</th>\n",
       "      <td>NEW SEC FILING FOR GME! CAN SOMEONE LESS RETAR...</td>\n",
       "      <td>29</td>\n",
       "      <td>l6ugk6</td>\n",
       "      <td>https://sec.report/Document/0001193125-21-019848/</td>\n",
       "      <td>74</td>\n",
       "      <td>1.611862e+09</td>\n",
       "      <td>NaN</td>\n",
       "      <td>2021-01-28 21:28:57</td>\n",
       "    </tr>\n",
       "    <tr>\n",
       "      <th>4</th>\n",
       "      <td>Not to distract from GME, just thought our AMC...</td>\n",
       "      <td>71</td>\n",
       "      <td>l6ufgy</td>\n",
       "      <td>https://i.redd.it/4h2sukb662e61.jpg</td>\n",
       "      <td>156</td>\n",
       "      <td>1.611862e+09</td>\n",
       "      <td>NaN</td>\n",
       "      <td>2021-01-28 21:26:56</td>\n",
       "    </tr>\n",
       "    <tr>\n",
       "      <th>...</th>\n",
       "      <td>...</td>\n",
       "      <td>...</td>\n",
       "      <td>...</td>\n",
       "      <td>...</td>\n",
       "      <td>...</td>\n",
       "      <td>...</td>\n",
       "      <td>...</td>\n",
       "      <td>...</td>\n",
       "    </tr>\n",
       "    <tr>\n",
       "      <th>53182</th>\n",
       "      <td>What I Learned Investigating SAVA FUD Spreaders</td>\n",
       "      <td>238</td>\n",
       "      <td>owd2pn</td>\n",
       "      <td>https://www.reddit.com/r/wallstreetbets/commen...</td>\n",
       "      <td>87</td>\n",
       "      <td>1.627906e+09</td>\n",
       "      <td>***TLDR: Three bitter scientists partnered up ...</td>\n",
       "      <td>2021-08-02 15:03:27</td>\n",
       "    </tr>\n",
       "    <tr>\n",
       "      <th>53183</th>\n",
       "      <td>Daily Popular Tickers Thread for August 02, 20...</td>\n",
       "      <td>228</td>\n",
       "      <td>owd1a5</td>\n",
       "      <td>https://www.reddit.com/r/wallstreetbets/commen...</td>\n",
       "      <td>1070</td>\n",
       "      <td>1.627906e+09</td>\n",
       "      <td>\\nYour daily hype thread. Please keep the shit...</td>\n",
       "      <td>2021-08-02 15:01:03</td>\n",
       "    </tr>\n",
       "    <tr>\n",
       "      <th>53184</th>\n",
       "      <td>Hitler reacts to the market being irrational</td>\n",
       "      <td>7398</td>\n",
       "      <td>owc5dr</td>\n",
       "      <td>https://v.redd.it/46jxu074exe71</td>\n",
       "      <td>372</td>\n",
       "      <td>1.627902e+09</td>\n",
       "      <td>NaN</td>\n",
       "      <td>2021-08-02 13:59:35</td>\n",
       "    </tr>\n",
       "    <tr>\n",
       "      <th>53185</th>\n",
       "      <td>Daily Discussion Thread for August 02, 2021</td>\n",
       "      <td>338</td>\n",
       "      <td>owbfjf</td>\n",
       "      <td>https://www.reddit.com/r/wallstreetbets/commen...</td>\n",
       "      <td>11688</td>\n",
       "      <td>1.627898e+09</td>\n",
       "      <td>Your daily trading discussion thread. Please k...</td>\n",
       "      <td>2021-08-02 13:00:16</td>\n",
       "    </tr>\n",
       "    <tr>\n",
       "      <th>53186</th>\n",
       "      <td>Fraternal Association of Gambling Gentlemen an...</td>\n",
       "      <td>40</td>\n",
       "      <td>owaqd6</td>\n",
       "      <td>https://www.reddit.com/r/wallstreetbets/commen...</td>\n",
       "      <td>810</td>\n",
       "      <td>1.627895e+09</td>\n",
       "      <td>This is an old Yacht Club thread. Click /u/Vis...</td>\n",
       "      <td>2021-08-02 12:00:14</td>\n",
       "    </tr>\n",
       "  </tbody>\n",
       "</table>\n",
       "<p>53187 rows × 8 columns</p>\n",
       "</div>"
      ]
     },
     "execution_count": 4,
     "metadata": {},
     "output_type": "execute_result"
    }
   ],
   "execution_count": 4
  },
  {
   "metadata": {
    "ExecuteTime": {
     "end_time": "2025-06-10T05:13:27.575924Z",
     "start_time": "2025-06-10T05:08:56.227339Z"
    }
   },
   "cell_type": "code",
   "source": [
    "from transformers import pipeline\n",
    "from sentence_transformers import SentenceTransformer\n",
    "import faiss\n",
    "import numpy as np\n",
    "\n",
    "sentiment_analyzer = pipeline(\n",
    "    \"sentiment-analysis\",\n",
    "    model=\"distilbert-base-uncased-finetuned-sst-2-english\",\n",
    "    device=0\n",
    ")\n",
    "\n",
    "batch_size = 2048\n",
    "\n",
    "def batch_sentiment_analysis(texts, batch_size=batch_size):\n",
    "    results = []\n",
    "    for i in range(0, len(texts), batch_size):\n",
    "        batch = texts[i:i+batch_size]\n",
    "        batch_results = sentiment_analyzer(batch)\n",
    "        results.extend(batch_results)\n",
    "    return results\n",
    "\n",
    "sentiments = batch_sentiment_analysis(wsb_posts['title'].tolist(), batch_size=batch_size)\n",
    "wsb_posts['sentiment'] = [res['label'] for res in sentiments]\n",
    "wsb_posts['sentiment_score'] = [res['score'] for res in sentiments]\n",
    "\n",
    "embedding_model = SentenceTransformer('all-MiniLM-L6-v2')\n",
    "embeddings = embedding_model.encode(\n",
    "    wsb_posts['title'].tolist(), batch_size=64, show_progress_bar=True\n",
    ")\n",
    "\n",
    "dimension = embeddings.shape[1]\n",
    "index = faiss.IndexFlatL2(dimension)\n",
    "index.add(np.array(embeddings))  # Add all vectors\n",
    "\n",
    "faiss.write_index(index, \"wsb_index.faiss\")\n",
    "wsb_posts.to_csv(\"wsb_metadata.csv\", index=False)\n",
    "\n",
    "\n",
    "index = faiss.read_index(\"wsb_index.faiss\")\n",
    "wsb_posts = pd.read_csv(\"wsb_metadata.csv\")\n",
    "query = \"Should I invest in AMC?\"\n",
    "query_vec = embedding_model.encode([query])\n",
    "\n",
    "D, I = index.search(np.array(query_vec), k=5)\n",
    "\n",
    "print(\"Top semantic matches for query:\")\n",
    "for idx in I[0]:\n",
    "    row = wsb_posts.iloc[idx]\n",
    "    print(f\"- {row['title']} ({row['sentiment']}, score={row['sentiment_score']:.2f})\")\n"
   ],
   "id": "529052dbeeb5f69d",
   "outputs": [
    {
     "name": "stderr",
     "output_type": "stream",
     "text": [
      "Device set to use cuda:0\n",
      "You seem to be using the pipelines sequentially on GPU. In order to maximize efficiency please use a dataset\n"
     ]
    },
    {
     "data": {
      "text/plain": [
       "modules.json:   0%|          | 0.00/349 [00:00<?, ?B/s]"
      ],
      "application/vnd.jupyter.widget-view+json": {
       "version_major": 2,
       "version_minor": 0,
       "model_id": "b28ff5f924574382be937e187b43603f"
      }
     },
     "metadata": {},
     "output_type": "display_data"
    },
    {
     "name": "stderr",
     "output_type": "stream",
     "text": [
      "C:\\Users\\jerry\\PycharmProjects\\StockPredictor\\.venv\\Lib\\site-packages\\huggingface_hub\\file_download.py:143: UserWarning: `huggingface_hub` cache-system uses symlinks by default to efficiently store duplicated files but your machine does not support them in C:\\Users\\jerry\\.cache\\huggingface\\hub\\models--sentence-transformers--all-MiniLM-L6-v2. Caching files will still work but in a degraded version that might require more space on your disk. This warning can be disabled by setting the `HF_HUB_DISABLE_SYMLINKS_WARNING` environment variable. For more details, see https://huggingface.co/docs/huggingface_hub/how-to-cache#limitations.\n",
      "To support symlinks on Windows, you either need to activate Developer Mode or to run Python as an administrator. In order to activate developer mode, see this article: https://docs.microsoft.com/en-us/windows/apps/get-started/enable-your-device-for-development\n",
      "  warnings.warn(message)\n"
     ]
    },
    {
     "data": {
      "text/plain": [
       "config_sentence_transformers.json:   0%|          | 0.00/116 [00:00<?, ?B/s]"
      ],
      "application/vnd.jupyter.widget-view+json": {
       "version_major": 2,
       "version_minor": 0,
       "model_id": "668b70cc728f4b89a9ae5737b621ce15"
      }
     },
     "metadata": {},
     "output_type": "display_data"
    },
    {
     "data": {
      "text/plain": [
       "README.md:   0%|          | 0.00/10.5k [00:00<?, ?B/s]"
      ],
      "application/vnd.jupyter.widget-view+json": {
       "version_major": 2,
       "version_minor": 0,
       "model_id": "905c0bc0017844b582e71cf06fa32478"
      }
     },
     "metadata": {},
     "output_type": "display_data"
    },
    {
     "data": {
      "text/plain": [
       "sentence_bert_config.json:   0%|          | 0.00/53.0 [00:00<?, ?B/s]"
      ],
      "application/vnd.jupyter.widget-view+json": {
       "version_major": 2,
       "version_minor": 0,
       "model_id": "ba3ca15ac694420fa075c898444389a6"
      }
     },
     "metadata": {},
     "output_type": "display_data"
    },
    {
     "data": {
      "text/plain": [
       "config.json:   0%|          | 0.00/612 [00:00<?, ?B/s]"
      ],
      "application/vnd.jupyter.widget-view+json": {
       "version_major": 2,
       "version_minor": 0,
       "model_id": "0a643467c8054f7bad8548299d78e00a"
      }
     },
     "metadata": {},
     "output_type": "display_data"
    },
    {
     "name": "stderr",
     "output_type": "stream",
     "text": [
      "Xet Storage is enabled for this repo, but the 'hf_xet' package is not installed. Falling back to regular HTTP download. For better performance, install the package with: `pip install huggingface_hub[hf_xet]` or `pip install hf_xet`\n"
     ]
    },
    {
     "data": {
      "text/plain": [
       "model.safetensors:   0%|          | 0.00/90.9M [00:00<?, ?B/s]"
      ],
      "application/vnd.jupyter.widget-view+json": {
       "version_major": 2,
       "version_minor": 0,
       "model_id": "f469f53ca34a4196b4fa02a6e1f1980e"
      }
     },
     "metadata": {},
     "output_type": "display_data"
    },
    {
     "data": {
      "text/plain": [
       "tokenizer_config.json:   0%|          | 0.00/350 [00:00<?, ?B/s]"
      ],
      "application/vnd.jupyter.widget-view+json": {
       "version_major": 2,
       "version_minor": 0,
       "model_id": "5f480dc1714343c8b045f31ed4008dc6"
      }
     },
     "metadata": {},
     "output_type": "display_data"
    },
    {
     "data": {
      "text/plain": [
       "vocab.txt:   0%|          | 0.00/232k [00:00<?, ?B/s]"
      ],
      "application/vnd.jupyter.widget-view+json": {
       "version_major": 2,
       "version_minor": 0,
       "model_id": "17a03e5f2bcc49a4b4b6af7c348dc5e5"
      }
     },
     "metadata": {},
     "output_type": "display_data"
    },
    {
     "data": {
      "text/plain": [
       "tokenizer.json:   0%|          | 0.00/466k [00:00<?, ?B/s]"
      ],
      "application/vnd.jupyter.widget-view+json": {
       "version_major": 2,
       "version_minor": 0,
       "model_id": "98fa2867b1e0446c90a6fffb22b3fb14"
      }
     },
     "metadata": {},
     "output_type": "display_data"
    },
    {
     "data": {
      "text/plain": [
       "special_tokens_map.json:   0%|          | 0.00/112 [00:00<?, ?B/s]"
      ],
      "application/vnd.jupyter.widget-view+json": {
       "version_major": 2,
       "version_minor": 0,
       "model_id": "de3bb12fa3a746e9aa7f0a4b52eb5aeb"
      }
     },
     "metadata": {},
     "output_type": "display_data"
    },
    {
     "data": {
      "text/plain": [
       "config.json:   0%|          | 0.00/190 [00:00<?, ?B/s]"
      ],
      "application/vnd.jupyter.widget-view+json": {
       "version_major": 2,
       "version_minor": 0,
       "model_id": "67dd75878dd94e0485550e1763c8e26f"
      }
     },
     "metadata": {},
     "output_type": "display_data"
    },
    {
     "data": {
      "text/plain": [
       "Batches:   0%|          | 0/832 [00:00<?, ?it/s]"
      ],
      "application/vnd.jupyter.widget-view+json": {
       "version_major": 2,
       "version_minor": 0,
       "model_id": "ebf26e88b8f247ab8d8d2f7978a5a774"
      }
     },
     "metadata": {},
     "output_type": "display_data"
    },
    {
     "name": "stdout",
     "output_type": "stream",
     "text": [
      "Top semantic matches for query:\n",
      "- Should I buy AMC now? (NEGATIVE, score=1.00)\n",
      "- Should I buy AMC now? I’m unsure. (NEGATIVE, score=1.00)\n",
      "- Should I buy more $AMC? (NEGATIVE, score=1.00)\n",
      "- Is $AMC coming back shall I invest dudes (NEGATIVE, score=0.99)\n",
      "- Guys is it worth investing in amc stock now??? (NEGATIVE, score=0.94)\n"
     ]
    }
   ],
   "execution_count": 5
  },
  {
   "metadata": {
    "ExecuteTime": {
     "end_time": "2025-06-09T06:13:56.291070Z",
     "start_time": "2025-06-09T06:13:55.314056Z"
    }
   },
   "cell_type": "code",
   "source": "",
   "id": "79e133334c626069",
   "outputs": [],
   "execution_count": 9
  },
  {
   "metadata": {},
   "cell_type": "code",
   "outputs": [],
   "execution_count": null,
   "source": "",
   "id": "b88fe8ef2f894c7f"
  }
 ],
 "metadata": {
  "kernelspec": {
   "display_name": "Python 3",
   "language": "python",
   "name": "python3"
  },
  "language_info": {
   "codemirror_mode": {
    "name": "ipython",
    "version": 2
   },
   "file_extension": ".py",
   "mimetype": "text/x-python",
   "name": "python",
   "nbconvert_exporter": "python",
   "pygments_lexer": "ipython2",
   "version": "2.7.6"
  }
 },
 "nbformat": 4,
 "nbformat_minor": 5
}
